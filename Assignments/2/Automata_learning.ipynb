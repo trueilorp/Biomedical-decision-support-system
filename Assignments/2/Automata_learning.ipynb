{
 "cells": [
  {
   "cell_type": "markdown",
   "id": "b8940658",
   "metadata": {},
   "source": [
    "## **Build automata learning**"
   ]
  },
  {
   "cell_type": "code",
   "execution_count": 1,
   "id": "7685594f",
   "metadata": {},
   "outputs": [
    {
     "data": {
      "application/vnd.jupyter.widget-view+json": {
       "model_id": "f5dec6bc4b6c4550bd4708937bf8a42b",
       "version_major": 2,
       "version_minor": 0
      },
      "text/plain": [
       "parsing log, completed traces ::   0%|          | 0/100000 [00:00<?, ?it/s]"
      ]
     },
     "metadata": {},
     "output_type": "display_data"
    }
   ],
   "source": [
    "import pm4py\n",
    "from pm4py.objects.log.importer.xes import importer as xes_importer\n",
    "from pm4py.objects.log.obj import EventLog, Trace, Event\n",
    "\n",
    "log = xes_importer.apply(\"C:/Users/Simone/Desktop/UNIVERSITA/MAGISTRALE/BIOMEDICAL DECISION SUPPORT SYSTEM/Assignments/2/log-10-percent-noise.xes.gz\")"
   ]
  },
  {
   "cell_type": "code",
   "execution_count": 2,
   "id": "6c77a228",
   "metadata": {},
   "outputs": [
    {
     "data": {
      "text/plain": [
       "{'attributes': {'concept:name': '1'}, 'events': [{'concept:name': 'Triage', 'lifecycle:transition': 'complete', 'priority': 'red', 'time:timestamp': datetime.datetime(1970, 1, 1, 1, 0, tzinfo=datetime.timezone.utc)}, '..', {'concept:name': 'Prepare', 'lifecycle:transition': 'complete', 'time:timestamp': datetime.datetime(1970, 1, 1, 2, 31, tzinfo=datetime.timezone.utc)}]}"
      ]
     },
     "execution_count": 2,
     "metadata": {},
     "output_type": "execute_result"
    }
   ],
   "source": [
    "log[0]"
   ]
  },
  {
   "cell_type": "code",
   "execution_count": 3,
   "id": "97090d18",
   "metadata": {},
   "outputs": [
    {
     "name": "stdout",
     "output_type": "stream",
     "text": [
      "Number of variants:  1956\n"
     ]
    }
   ],
   "source": [
    "from pm4py.statistics.variants.log import get as variants_get\n",
    "variants = variants_get.get_variants(log)\n",
    "print(\"Number of variants: \", len(variants))"
   ]
  },
  {
   "cell_type": "code",
   "execution_count": 5,
   "id": "1e1dbbe2",
   "metadata": {},
   "outputs": [],
   "source": [
    "test_log = log[10:]\n",
    "train_log = log[0:10]\n",
    "\n",
    "def create_event_log(traces_list):\n",
    "\tlog = EventLog()\n",
    "\t\n",
    "\tfor trace_data in traces_list:\n",
    "\t\ttrace = Trace()\n",
    "\t\t\n",
    "\t\tfor event_data in trace_data[:-1]:\n",
    "\t\t\tevent = Event(event_data)\n",
    "\t\t\ttrace.append(event)\n",
    "\t\t\n",
    "\t\tlog.append(trace)\n",
    "\t\n",
    "\treturn log\n",
    "\n",
    "train = create_event_log(train_log)\n",
    "test = create_event_log(test_log)"
   ]
  },
  {
   "cell_type": "code",
   "execution_count": 6,
   "id": "e943ead1",
   "metadata": {},
   "outputs": [
    {
     "data": {
      "text/plain": [
       "{'concept:name': 'Triage', 'lifecycle:transition': 'complete', 'priority': 'red', 'time:timestamp': datetime.datetime(1970, 1, 1, 1, 0, tzinfo=datetime.timezone.utc)}"
      ]
     },
     "execution_count": 6,
     "metadata": {},
     "output_type": "execute_result"
    }
   ],
   "source": [
    "train[0][0]"
   ]
  },
  {
   "cell_type": "code",
   "execution_count": 7,
   "id": "859e05ae",
   "metadata": {},
   "outputs": [],
   "source": [
    "net, initial_marking, final_marking = pm4py.discover_petri_net_inductive(train)\n",
    "# pm4py.view_petri_net(net, initial_marking, final_marking)"
   ]
  },
  {
   "cell_type": "code",
   "execution_count": 8,
   "id": "27f90e21",
   "metadata": {},
   "outputs": [
    {
     "data": {
      "application/vnd.jupyter.widget-view+json": {
       "model_id": "1d68f93446c548aa8fc27109ea7d7bed",
       "version_major": 2,
       "version_minor": 0
      },
      "text/plain": [
       "aligning log, completed variants ::   0%|          | 0/10 [00:00<?, ?it/s]"
      ]
     },
     "metadata": {},
     "output_type": "display_data"
    }
   ],
   "source": [
    "from pm4py.algo.conformance.alignments.petri_net import algorithm as alignments\n",
    "\n",
    "# Perform alignments\n",
    "aligned_traces = alignments.apply_log(train, net, initial_marking, final_marking)\n",
    "al = [t[1] for t in aligned_traces[0]['alignment']]"
   ]
  },
  {
   "cell_type": "code",
   "execution_count": 9,
   "id": "587cdb58",
   "metadata": {},
   "outputs": [],
   "source": [
    "# Build the perfect alignment\n",
    "perfect_aligned_log = []\n",
    "\n",
    "for aligned in aligned_traces:\n",
    "\taligned_trace = []\n",
    "\tfor move_log, move_model in aligned['alignment']:\n",
    "\t\t# keep synchronized moves\n",
    "\t\tif move_log not in [None, \">>\"] and move_model not in [None, \">>\"]:\n",
    "\t\t\taligned_trace.append((move_log, move_model))\n",
    "\t\t\n",
    "\t\t# insert dummy for visible model moves (if present)\n",
    "\t\telif move_log in [None, \">>\"] and move_model not in [None, \">>\", \"tau\"]:\n",
    "\t\t\taligned_trace.append(f\"{move_model}_DUMMY\")\n",
    "\t\t\n",
    "\t\t# skip all other cases (trace-only moves or tau)\n",
    "\t\n",
    "\tperfect_aligned_log.append(aligned_trace)\n",
    "\n"
   ]
  },
  {
   "cell_type": "code",
   "execution_count": 10,
   "id": "9b46e982",
   "metadata": {},
   "outputs": [
    {
     "name": "stdout",
     "output_type": "stream",
     "text": [
      "Aligned traces: {'alignment': [('Triage', 'Triage'), ('Register', 'Register'), ('X-Ray', 'X-Ray'), ('Check', 'Check'), ('>>', None), ('Visit', 'Visit'), ('Check', 'Check'), ('>>', None), ('Check', 'Check'), ('Final Visit', 'Final Visit'), ('>>', None), ('>>', None)], 'cost': 4, 'visited_states': 12, 'queued_states': 44, 'traversed_arcs': 46, 'lp_solved': 1, 'fitness': 1.0, 'bwc': 140002}\n",
      "Perfect aligned traces: [('Triage', 'Triage'), ('Register', 'Register'), ('Check', 'Check'), ('Visit', 'Visit'), ('X-Ray', 'X-Ray'), ('Check', 'Check'), ('Final Visit', 'Final Visit')]\n",
      "Alignment of the first trace: Triage\n",
      "(0, ('Triage', 'Triage'))\n",
      "(1, ('Register', 'Register'))\n",
      "(2, ('Check', 'Check'))\n",
      "(3, ('>>', None))\n",
      "(4, ('X-Ray', 'X-Ray'))\n",
      "(5, ('Check', 'Check'))\n",
      "(6, ('>>', None))\n",
      "(7, ('Check', 'Check'))\n",
      "(8, ('>>', None))\n",
      "(9, ('Visit', 'Visit'))\n",
      "(10, ('Final Visit', 'Final Visit'))\n",
      "(11, ('Check', 'Check'))\n",
      "(12, ('>>', None))\n",
      "(13, ('>>', None))\n",
      "Total traces:  10\n"
     ]
    }
   ],
   "source": [
    "print(\"Aligned traces:\" , aligned_traces[4])\n",
    "# Aligned traces: {'alignment': [('Triage', 'Triage'), ('Register', 'Register'), ('Check', 'Check'), ('>>', None), ('X-Ray', 'X-Ray'), ('Visit', 'Visit'), ('Check', 'Check'), ('Final Visit', 'Final Visit'), ('>>', None), ('Prepare', 'Prepare')], 'cost': 2, 'visited_states': 11, 'queued_states': 44, 'traversed_arcs': 46, 'lp_solved': 4, 'fitness': 1.0, 'bwc': 140002}\n",
    "\n",
    "print(\"Perfect aligned traces:\" , perfect_aligned_log[1])\n",
    "\n",
    "print(\"Alignment of the first trace:\" , al[0])\n",
    "\n",
    "# Alignment of the first trace: Triage\n",
    "\n",
    "for i in enumerate(aligned_traces[0]['alignment']):\n",
    "\tprint(i)\n",
    "\t\n",
    "total_traces = 0\n",
    "for i in enumerate(aligned_traces):\n",
    "\ttotal_traces += 1\n",
    "print(\"Total traces: \", total_traces)"
   ]
  },
  {
   "cell_type": "code",
   "execution_count": 11,
   "id": "f13fa354",
   "metadata": {},
   "outputs": [
    {
     "name": "stdout",
     "output_type": "stream",
     "text": [
      "[[('Triage', 'Triage'), ('Register', 'Register'), ('Check', 'Check'), ('X-Ray', 'X-Ray'), ('Check', 'Check'), ('Check', 'Check'), ('Visit', 'Visit'), ('Final Visit', 'Final Visit'), ('Check', 'Check')], [('Triage', 'Triage'), ('Register', 'Register'), ('Check', 'Check'), ('Visit', 'Visit'), ('X-Ray', 'X-Ray'), ('Check', 'Check'), ('Final Visit', 'Final Visit')], [('Triage', 'Triage'), ('Register', 'Register'), ('Check', 'Check'), ('X-Ray', 'X-Ray'), ('Visit', 'Visit'), ('Check', 'Check'), ('Check', 'Check'), ('Final Visit', 'Final Visit'), ('Prepare', 'Prepare')], [('Triage', 'Triage'), ('Register', 'Register'), ('Check', 'Check'), ('X-Ray', 'X-Ray'), ('Visit', 'Visit'), ('Check', 'Check'), ('Check', 'Check'), ('Final Visit', 'Final Visit')], [('Triage', 'Triage'), ('Register', 'Register'), ('X-Ray', 'X-Ray'), ('Check', 'Check'), ('Visit', 'Visit'), ('Check', 'Check'), ('Check', 'Check'), ('Final Visit', 'Final Visit')], [('Triage', 'Triage'), ('Register', 'Register'), ('Visit', 'Visit'), ('Check', 'Check'), ('Check', 'Check'), ('X-Ray', 'X-Ray'), ('Final Visit', 'Final Visit'), ('Check', 'Check'), ('Prepare', 'Prepare')], [('Triage', 'Triage'), ('Register', 'Register'), ('Check', 'Check'), ('X-Ray', 'X-Ray'), ('Check', 'Check'), ('Visit', 'Visit'), ('Visit', 'Visit'), ('Final Visit', 'Final Visit')], [('Triage', 'Triage'), ('Register', 'Register'), ('Visit', 'Visit'), ('Check', 'Check'), ('X-Ray', 'X-Ray'), ('Check', 'Check'), ('Final Visit', 'Final Visit')], [('Triage', 'Triage'), ('Register', 'Register'), ('Check', 'Check'), ('Visit', 'Visit'), ('Check', 'Check'), ('X-Ray', 'X-Ray'), ('Final Visit', 'Final Visit'), ('Check', 'Check')], [('Triage', 'Triage'), ('Register', 'Register'), ('Check', 'Check'), ('X-Ray', 'X-Ray'), ('Check', 'Check'), ('Visit', 'Visit'), ('Check', 'Check'), ('Final Visit', 'Final Visit'), ('Prepare', 'Prepare')]]\n"
     ]
    }
   ],
   "source": [
    "print(perfect_aligned_log)"
   ]
  },
  {
   "cell_type": "markdown",
   "id": "729724e9",
   "metadata": {},
   "source": [
    "#### **Build automata learning**"
   ]
  },
  {
   "cell_type": "code",
   "execution_count": 12,
   "id": "e7d59698",
   "metadata": {},
   "outputs": [
    {
     "name": "stdout",
     "output_type": "stream",
     "text": [
      "Randomly selected aligned trace for testing: [('Triage', 'Triage'), ('Register', 'Register'), ('Check', 'Check'), ('Visit', 'Visit'), ('X-Ray', 'X-Ray'), ('Check', 'Check'), ('Final Visit', 'Final Visit')]\n",
      "-----\n",
      "Transition to fire: (b4ff1be5-6c8c-4fe0-bc08-e943bd6a3e7b, 'Triage')\n",
      "Enabled transitions: {(b4ff1be5-6c8c-4fe0-bc08-e943bd6a3e7b, 'Triage')}\n",
      "Step 0: Transition=(b4ff1be5-6c8c-4fe0-bc08-e943bd6a3e7b, 'Triage'), Marking=['p_3:1']\n",
      "-----\n",
      "Transition to fire: (548226c0-1c80-4b5b-ae88-97f936b6e64e, 'Register')\n",
      "Enabled transitions: {(548226c0-1c80-4b5b-ae88-97f936b6e64e, 'Register')}\n",
      "Step 1: Transition=(548226c0-1c80-4b5b-ae88-97f936b6e64e, 'Register'), Marking=['p_14:1', 'p_18:1', 'p_8:1']\n",
      "-----\n",
      "Transition to fire: (fa27f118-fb17-4d81-a83b-90d82aa25931, 'Check')\n",
      "Enabled transitions: {(3e3074d6-d883-4886-9e98-4cacf28a160a, 'X-Ray'), (fa27f118-fb17-4d81-a83b-90d82aa25931, 'Check'), (c24662ff-ad4a-4a53-828c-89dab722c0e9, 'Visit')}\n",
      "Step 2: Transition=(fa27f118-fb17-4d81-a83b-90d82aa25931, 'Check'), Marking=['p_14:1', 'p_18:1', 'p_9:1']\n",
      "-----\n",
      "Transition to fire: (c24662ff-ad4a-4a53-828c-89dab722c0e9, 'Visit')\n",
      "Enabled transitions: {(skip_5, None), (c24662ff-ad4a-4a53-828c-89dab722c0e9, 'Visit'), (3e3074d6-d883-4886-9e98-4cacf28a160a, 'X-Ray')}\n",
      "Step 3: Transition=(c24662ff-ad4a-4a53-828c-89dab722c0e9, 'Visit'), Marking=['p_14:1', 'p_19:1', 'p_9:1']\n",
      "-----\n",
      "Transition to fire: (3e3074d6-d883-4886-9e98-4cacf28a160a, 'X-Ray')\n",
      "Enabled transitions: {(skip_11, None), (skip_5, None), (3e3074d6-d883-4886-9e98-4cacf28a160a, 'X-Ray')}\n",
      "Step 4: Transition=(3e3074d6-d883-4886-9e98-4cacf28a160a, 'X-Ray'), Marking=['p_15:1', 'p_19:1', 'p_9:1']\n",
      "-----\n",
      "Transition to fire: (fa27f118-fb17-4d81-a83b-90d82aa25931, 'Check')\n",
      "Enabled transitions: {(skip_11, None), (skip_5, None), (7aa23e31-4355-4429-9006-8d2c33eb32a9, 'Final Visit')}\n",
      "Step 5: Transition=None, Marking=['p_15:1', 'p_19:1', 'p_9:1']\n",
      "-----\n",
      "Transition to fire: (7aa23e31-4355-4429-9006-8d2c33eb32a9, 'Final Visit')\n",
      "Enabled transitions: {(skip_11, None), (skip_5, None), (7aa23e31-4355-4429-9006-8d2c33eb32a9, 'Final Visit')}\n",
      "Step 6: Transition=(7aa23e31-4355-4429-9006-8d2c33eb32a9, 'Final Visit'), Marking=['p_12:1', 'p_9:1']\n",
      "-----\n",
      "Step 7: Transition=None, Marking=['sink:1']\n",
      "-----\n",
      "Step 8: Transition=None, Marking=['sink:1']\n",
      "-----\n",
      "Step 9: Transition=None, Marking=['sink:1']\n",
      "-----\n",
      "Step 10: Transition=None, Marking=['sink:1']\n",
      "-----\n",
      "Step 11: Transition=None, Marking=['sink:1']\n",
      "-----\n",
      "Step 12: Transition=None, Marking=['sink:1']\n",
      "-----\n",
      "Step 13: Transition=None, Marking=['sink:1']\n",
      "-----\n",
      "Step 14: Transition=None, Marking=['sink:1']\n",
      "-----\n",
      "Step 15: Transition=None, Marking=['sink:1']\n",
      "-----\n",
      "Step 16: Transition=None, Marking=['sink:1']\n",
      "-----\n",
      "Step 17: Transition=None, Marking=['sink:1']\n",
      "-----\n",
      "Step 18: Transition=None, Marking=['sink:1']\n",
      "-----\n",
      "Step 19: Transition=None, Marking=['sink:1']\n",
      "-----\n"
     ]
    }
   ],
   "source": [
    "from pm4py.objects.petri_net import semantics\n",
    "import random \n",
    "random.seed(42)\n",
    "\n",
    "class AutomataLearningWrapper:\n",
    "\tdef __init__(self, random_aligned, net, initial_marking, final_marking):\n",
    "\t\tself.alignment = random_aligned\n",
    "\t\tself.net = net\n",
    "\t\tself.current_marking = initial_marking\n",
    "\t\tself.current_index = 0\n",
    "\t\tself.final_marking = final_marking\n",
    "\t\n",
    "\tdef step(self):\n",
    "\t\tif self.current_index >= len(self.alignment):  \n",
    "\t\t\tself.current_index += 1\n",
    "\t\t\treturn None, self.final_marking\n",
    "\t\t\n",
    "\t\t# extract the transition from alignment (assuming tuple structure)\n",
    "\t\tmodel_transition_name = self.alignment[self.current_index][1]\n",
    "\t\ttransition = next(t for t in self.net.transitions if t.label == model_transition_name) # take the second position of the tuple, because represent the model/net transition\n",
    "\t\tprint(\"Transition to fire:\", transition)\n",
    "\t\t\n",
    "\t\tenabled = semantics.enabled_transitions(self.net, self.current_marking)\n",
    "\t\t# enabled = [t.label for t in enabled]  # get the labels of the enabled transitions\n",
    "\t\tprint(\"Enabled transitions:\", enabled)\n",
    "\t\t\n",
    "\t\tif transition not in enabled:\n",
    "\t\t\tself.current_index += 1\n",
    "\t\t\treturn None, self.current_marking\n",
    "\t\t\n",
    "\t\t# fire the transition\n",
    "\t\tself.current_marking = semantics.execute(transition, self.net, self.current_marking)\n",
    "\t\t\n",
    "\t\tself.current_index += 1\n",
    "\t\t\n",
    "\t\treturn transition, self.current_marking\n",
    "\n",
    "# Test automata learning wrapper\n",
    "random_aligned = random.choice(perfect_aligned_log)\n",
    "print(\"Randomly selected aligned trace for testing:\", random_aligned)\n",
    "print(\"-----\")\n",
    "automata_learning = AutomataLearningWrapper(random_aligned, net, initial_marking, final_marking)\n",
    "for i in range(0, 20):\n",
    "\ttransition, current_marking = automata_learning.step()\n",
    "\tprint(f\"Step {i}: Transition={transition}, Marking={current_marking}\")\n",
    "\tprint(\"-----\")\n"
   ]
  }
 ],
 "metadata": {
  "kernelspec": {
   "display_name": "Python 3",
   "language": "python",
   "name": "python3"
  },
  "language_info": {
   "codemirror_mode": {
    "name": "ipython",
    "version": 3
   },
   "file_extension": ".py",
   "mimetype": "text/x-python",
   "name": "python",
   "nbconvert_exporter": "python",
   "pygments_lexer": "ipython3",
   "version": "3.11.0"
  }
 },
 "nbformat": 4,
 "nbformat_minor": 5
}
